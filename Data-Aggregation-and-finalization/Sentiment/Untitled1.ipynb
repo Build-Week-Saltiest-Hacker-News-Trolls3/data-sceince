{
 "cells": [
  {
   "cell_type": "code",
   "execution_count": null,
   "metadata": {},
   "outputs": [],
   "source": [
    "#Sentiment Score for each comment.\n"
   ]
  },
  {
   "cell_type": "code",
   "execution_count": 2,
   "metadata": {},
   "outputs": [],
   "source": [
    "import json\n",
    "import sqlite3\n",
    "import urllib\n",
    "import time\n",
    "import requests\n",
    "from textblob import TextBlob"
   ]
  },
  {
   "cell_type": "code",
   "execution_count": 3,
   "metadata": {},
   "outputs": [],
   "source": [
    "conn = sqlite3.connect('HRTopDown.sqlite3')\n",
    "c = conn.cursor()"
   ]
  },
  {
   "cell_type": "code",
   "execution_count": 9,
   "metadata": {},
   "outputs": [],
   "source": [
    "All_Items = c.execute('SELECT * FROM items')\n",
    "items = All_Items.fetchall()\n",
    "###\n",
    "# [0] = troll_id\n",
    "# [1] = text\n",
    "# [2] = id\n",
    "# [3] = Sentiment\n",
    "# [4] = Date_created\n",
    "#UPDATE table_name\n",
    "#SET column1 = value1, column2 = value2, ...\n",
    "#WHERE condition; "
   ]
  },
  {
   "cell_type": "code",
   "execution_count": 7,
   "metadata": {},
   "outputs": [
    {
     "name": "stdout",
     "output_type": "stream",
     "text": [
      "('btilly', 'I say it because the historical debate on the 7th amendment centered on jury nullification.  People from Benjamin Franklin to Thomas Jefferson cited the fact that juries could refuse to convict under bad laws as a final defense against unjust government.', 21578805, None, 1574201086)\n"
     ]
    }
   ],
   "source": [
    "print(items[0])"
   ]
  },
  {
   "cell_type": "code",
   "execution_count": 12,
   "metadata": {},
   "outputs": [],
   "source": [
    "for item in items:\n",
    "    sentiment = TextBlob(item[1]).sentiment.polarity\n",
    "    c.execute('UPDATE items SET Sentiment = ? where id = ?', [sentiment, item[2]])\n",
    "    conn.commit()"
   ]
  },
  {
   "cell_type": "code",
   "execution_count": 13,
   "metadata": {},
   "outputs": [],
   "source": []
  }
 ],
 "metadata": {
  "kernelspec": {
   "display_name": "Python 3",
   "language": "python",
   "name": "python3"
  },
  "language_info": {
   "codemirror_mode": {
    "name": "ipython",
    "version": 3
   },
   "file_extension": ".py",
   "mimetype": "text/x-python",
   "name": "python",
   "nbconvert_exporter": "python",
   "pygments_lexer": "ipython3",
   "version": "3.7.1"
  }
 },
 "nbformat": 4,
 "nbformat_minor": 2
}
