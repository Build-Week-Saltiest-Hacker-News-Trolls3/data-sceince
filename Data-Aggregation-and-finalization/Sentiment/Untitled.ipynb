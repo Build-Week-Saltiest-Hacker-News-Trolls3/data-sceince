{
 "cells": [
  {
   "cell_type": "code",
   "execution_count": 3,
   "metadata": {},
   "outputs": [],
   "source": [
    "#Comment Pull, and setup\n",
    "import json\n",
    "import sqlite3\n",
    "import urllib\n",
    "import time\n",
    "import requests\n",
    "from textblob import TextBlob"
   ]
  },
  {
   "cell_type": "code",
   "execution_count": 4,
   "metadata": {},
   "outputs": [],
   "source": [
    "connc= sqlite3.connect('HRTopDown.sqlite3')\n",
    "cc = connc.cursor()"
   ]
  },
  {
   "cell_type": "code",
   "execution_count": 5,
   "metadata": {},
   "outputs": [],
   "source": [
    "textvar = cc.execute('SELECT rawtxt FROM RawJSON')\n",
    "jsonobjs = textvar.fetchall()"
   ]
  },
  {
   "cell_type": "code",
   "execution_count": 6,
   "metadata": {},
   "outputs": [],
   "source": [
    "troll_list = cc.execute('SELECT troll_name FROM trolls')\n",
    "trolls = textvar.fetchall()"
   ]
  },
  {
   "cell_type": "code",
   "execution_count": 7,
   "metadata": {},
   "outputs": [],
   "source": [
    "troll_names = list()"
   ]
  },
  {
   "cell_type": "code",
   "execution_count": 8,
   "metadata": {},
   "outputs": [],
   "source": [
    "for troll in trolls:\n",
    "    troll_names.append(troll[0])"
   ]
  },
  {
   "cell_type": "code",
   "execution_count": null,
   "metadata": {},
   "outputs": [],
   "source": []
  },
  {
   "cell_type": "code",
   "execution_count": 11,
   "metadata": {},
   "outputs": [],
   "source": [
    "for item in jsonobjs:\n",
    "    if item[0] == 'null':\n",
    "        continue\n",
    "    itemobj = json.loads(item[0])\n",
    "    if 'text' not in itemobj:\n",
    "        continue\n",
    "    if 'type' not in itemobj:\n",
    "        continue\n",
    "    if itemobj['type'] != 'comment':\n",
    "        continue\n",
    "    if itemobj['by'] not in troll_names:\n",
    "        continue\n",
    "    cc.execute('INSERT INTO items (troll_id, text, id, Date_Created ) VALUES (?,?,?,?)', [itemobj['by'], itemobj['text'], itemobj['id'], itemobj['time']])\n",
    "    connc.commit()\n",
    "    "
   ]
  },
  {
   "cell_type": "code",
   "execution_count": null,
   "metadata": {},
   "outputs": [],
   "source": []
  }
 ],
 "metadata": {
  "kernelspec": {
   "display_name": "Python 3",
   "language": "python",
   "name": "python3"
  },
  "language_info": {
   "codemirror_mode": {
    "name": "ipython",
    "version": 3
   },
   "file_extension": ".py",
   "mimetype": "text/x-python",
   "name": "python",
   "nbconvert_exporter": "python",
   "pygments_lexer": "ipython3",
   "version": "3.7.1"
  }
 },
 "nbformat": 4,
 "nbformat_minor": 2
}
