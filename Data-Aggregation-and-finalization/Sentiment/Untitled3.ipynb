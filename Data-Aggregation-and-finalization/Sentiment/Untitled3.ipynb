{
 "cells": [
  {
   "cell_type": "code",
   "execution_count": null,
   "metadata": {},
   "outputs": [],
   "source": []
  },
  {
   "cell_type": "code",
   "execution_count": 1,
   "metadata": {},
   "outputs": [],
   "source": [
    "import json\n",
    "import sqlite3\n",
    "import urllib\n",
    "import time\n",
    "import requests\n",
    "from textblob import TextBlob"
   ]
  },
  {
   "cell_type": "code",
   "execution_count": 2,
   "metadata": {},
   "outputs": [],
   "source": [
    "conn= sqlite3.connect('HRTopDown.sqlite3')\n",
    "c = conn.cursor()"
   ]
  },
  {
   "cell_type": "code",
   "execution_count": 3,
   "metadata": {},
   "outputs": [],
   "source": [
    "All_Comments = c.execute('SELECT * FROM Comments')\n",
    "Comments = All_Comments.fetchall()"
   ]
  },
  {
   "cell_type": "code",
   "execution_count": 4,
   "metadata": {},
   "outputs": [],
   "source": [
    "troll_list = c.execute('SELECT DISTINCT * FROM trolls')\n",
    "trolls = troll_list.fetchall()"
   ]
  },
  {
   "cell_type": "code",
   "execution_count": 5,
   "metadata": {},
   "outputs": [],
   "source": [
    "#    cc.execute('INSERT INTO items (troll_id, text, id) VALUES (?,?,?)', [itemobj['by'], itemobj['text'], itemobj['id']])\n",
    "#    connc.commit()\n",
    "#conn.close()"
   ]
  },
  {
   "cell_type": "code",
   "execution_count": 6,
   "metadata": {},
   "outputs": [],
   "source": [
    "i = 1\n",
    "for troll in trolls:\n",
    "    Troll_Comments = c.execute('SELECT * FROM Comments WHERE troll_name = ? ', [troll[0]])\n",
    "    #print(len(Troll_Comments.fetchall()))\n",
    "    troll_comments = Troll_Comments.fetchall()\n",
    "    total_comments = len(troll_comments)\n",
    "    salty_comments = 0\n",
    "    for tcomm in troll_comments:\n",
    "        if tcomm[2] == 1:\n",
    "            salty_comments = salty_comments + 1\n",
    "    if total_comments == 0:\n",
    "        continue\n",
    "    rank = salty_comments/total_comments\n",
    "    c.execute('INSERT INTO Troll (troll_name, date_created, salty_rank, salty_comments, comments_total) VALUES (?,?,?,?,?)', [troll[0],troll[1],rank, salty_comments, total_comments])\n",
    "#    i = i + 1\n",
    "#    if i == 10:\n",
    "#        break\n",
    "conn.commit()         "
   ]
  },
  {
   "cell_type": "code",
   "execution_count": 8,
   "metadata": {},
   "outputs": [],
   "source": [
    "#conn.close()\n",
    "conn.commit()"
   ]
  },
  {
   "cell_type": "code",
   "execution_count": 23,
   "metadata": {},
   "outputs": [],
   "source": [
    "for item in jsonobjs:\n",
    "    if item[0] == 'null':\n",
    "        continue\n",
    "    itemobj = json.loads(item[0])\n",
    "    if 'text' not in itemobj:\n",
    "        continue\n",
    "    if 'type' not in itemobj:\n",
    "        continue\n",
    "    if itemobj['type'] != 'comment':\n",
    "        continue\n",
    "    if itemobj['by'] not in troll_names:\n",
    "        continue\n",
    "    cc.execute('INSERT INTO items (troll_id, text, id) VALUES (?,?,?)', [itemobj['by'], itemobj['text'], itemobj['id']])\n",
    "    connc.commit()\n",
    "    "
   ]
  }
 ],
 "metadata": {
  "kernelspec": {
   "display_name": "Python 3",
   "language": "python",
   "name": "python3"
  },
  "language_info": {
   "codemirror_mode": {
    "name": "ipython",
    "version": 3
   },
   "file_extension": ".py",
   "mimetype": "text/x-python",
   "name": "python",
   "nbconvert_exporter": "python",
   "pygments_lexer": "ipython3",
   "version": "3.7.1"
  }
 },
 "nbformat": 4,
 "nbformat_minor": 2
}
