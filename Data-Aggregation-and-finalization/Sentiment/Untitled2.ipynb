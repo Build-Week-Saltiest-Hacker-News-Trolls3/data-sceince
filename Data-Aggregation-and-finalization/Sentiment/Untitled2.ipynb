{
 "cells": [
  {
   "cell_type": "code",
   "execution_count": 2,
   "metadata": {},
   "outputs": [],
   "source": [
    "#Populate Comment table with binary Sentiment"
   ]
  },
  {
   "cell_type": "code",
   "execution_count": 1,
   "metadata": {},
   "outputs": [],
   "source": [
    "import json\n",
    "import sqlite3\n",
    "import urllib\n",
    "import time\n",
    "import requests\n",
    "from textblob import TextBlob"
   ]
  },
  {
   "cell_type": "code",
   "execution_count": 4,
   "metadata": {},
   "outputs": [],
   "source": [
    "conn = sqlite3.connect('HRTopDown.sqlite3')\n",
    "c = conn.cursor()"
   ]
  },
  {
   "cell_type": "code",
   "execution_count": 11,
   "metadata": {},
   "outputs": [],
   "source": [
    "#All_Comments = cc.execute('SELECT rawtxt FROM RawJSON')\n",
    "#jsonobjs = textvar.fetchall()\n",
    "All_Items = c.execute('SELECT * FROM items')\n",
    "items = All_Items.fetchall()\n",
    "# [0] = troll_id\n",
    "# [1] = text\n",
    "# [2] = id\n",
    "# [3] = Sentiment\n",
    "# [4] = Date_created\n",
    "#UPDATE table_name\n",
    "#SET column1 = value1, column2 = value2, ...\n",
    "#WHERE condition; "
   ]
  },
  {
   "cell_type": "code",
   "execution_count": 24,
   "metadata": {},
   "outputs": [],
   "source": [
    "for item in items:\n",
    "    if item[3] > 0:\n",
    "        is_salty = 0\n",
    "    else:\n",
    "        is_salty = 1\n",
    "    c.execute('INSERT INTO Comments (comment_uuid, troll_name, is_salty, text, date_created) VALUES (?,?,?,?,?)',[item[2],item[0],is_salty,item[1],item[4]])\n",
    "    "
   ]
  },
  {
   "cell_type": "code",
   "execution_count": 25,
   "metadata": {},
   "outputs": [],
   "source": [
    "conn.commit()"
   ]
  },
  {
   "cell_type": "code",
   "execution_count": 15,
   "metadata": {},
   "outputs": [],
   "source": [
    "#troll_list = c.execute('SELECT troll_name FROM trolls')\n",
    "#trolls = troll_list.fetchall()"
   ]
  },
  {
   "cell_type": "code",
   "execution_count": 16,
   "metadata": {},
   "outputs": [],
   "source": [
    "#troll_names = list()"
   ]
  },
  {
   "cell_type": "code",
   "execution_count": 17,
   "metadata": {},
   "outputs": [],
   "source": [
    "#for troll in trolls:\n",
    "#    troll_names.append(troll[0])"
   ]
  },
  {
   "cell_type": "code",
   "execution_count": 22,
   "metadata": {},
   "outputs": [
    {
     "data": {
      "text/plain": [
       "3039"
      ]
     },
     "execution_count": 22,
     "metadata": {},
     "output_type": "execute_result"
    }
   ],
   "source": [
    "#t_items = c.execute('SELECT ')"
   ]
  },
  {
   "cell_type": "code",
   "execution_count": null,
   "metadata": {},
   "outputs": [],
   "source": [
    "#for troll in troll_names:\n",
    "#    troll_comments = "
   ]
  },
  {
   "cell_type": "code",
   "execution_count": 23,
   "metadata": {},
   "outputs": [],
   "source": [
    "#for item in jsonobjs:\n",
    "#    if item[0] == 'null':\n",
    "#        continue\n",
    "#    itemobj = json.loads(item[0])\n",
    "#    if 'text' not in itemobj:\n",
    "#        continue\n",
    "#    if 'type' not in itemobj:\n",
    "#        continue\n",
    "#    if itemobj['type'] != 'comment':\n",
    "#        continue\n",
    "#    if itemobj['by'] not in troll_names:\n",
    "#        continue\n",
    "#    cc.execute('INSERT INTO items (troll_id, text, id) VALUES (?,?,?)', [itemobj['by'], itemobj['text'], itemobj['id']])\n",
    "#    connc.commit()\n",
    "    "
   ]
  },
  {
   "cell_type": "code",
   "execution_count": null,
   "metadata": {},
   "outputs": [],
   "source": []
  }
 ],
 "metadata": {
  "kernelspec": {
   "display_name": "Python 3",
   "language": "python",
   "name": "python3"
  },
  "language_info": {
   "codemirror_mode": {
    "name": "ipython",
    "version": 3
   },
   "file_extension": ".py",
   "mimetype": "text/x-python",
   "name": "python",
   "nbconvert_exporter": "python",
   "pygments_lexer": "ipython3",
   "version": "3.7.1"
  }
 },
 "nbformat": 4,
 "nbformat_minor": 2
}
