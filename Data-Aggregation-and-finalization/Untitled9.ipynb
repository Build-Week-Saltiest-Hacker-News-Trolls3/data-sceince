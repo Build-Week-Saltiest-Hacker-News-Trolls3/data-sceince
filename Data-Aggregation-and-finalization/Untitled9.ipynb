{
 "cells": [
  {
   "cell_type": "code",
   "execution_count": null,
   "metadata": {},
   "outputs": [],
   "source": [
    " #https://hacker-news.firebaseio.com/v0/item/8863.json?print=pretty"
   ]
  },
  {
   "cell_type": "code",
   "execution_count": 1,
   "metadata": {},
   "outputs": [],
   "source": [
    "import json\n",
    "import sqlite3\n",
    "import urllib\n",
    "import time\n",
    "import requests"
   ]
  },
  {
   "cell_type": "code",
   "execution_count": 2,
   "metadata": {},
   "outputs": [],
   "source": [
    "#html = urllib.request.urlopen('https://hacker-news.firebaseio.com/v0/item/2168746.json')\n",
    "#json.loads(html.read())"
   ]
  },
  {
   "cell_type": "code",
   "execution_count": 3,
   "metadata": {},
   "outputs": [],
   "source": [
    "#jsonobjs = []"
   ]
  },
  {
   "cell_type": "code",
   "execution_count": 4,
   "metadata": {},
   "outputs": [],
   "source": [
    "conn = sqlite3.connect('HRTopDownNewData0.sqlite3')\n",
    "c = conn.cursor()"
   ]
  },
  {
   "cell_type": "code",
   "execution_count": null,
   "metadata": {},
   "outputs": [],
   "source": []
  },
  {
   "cell_type": "code",
   "execution_count": null,
   "metadata": {},
   "outputs": [],
   "source": []
  },
  {
   "cell_type": "code",
   "execution_count": null,
   "metadata": {},
   "outputs": [],
   "source": []
  },
  {
   "cell_type": "code",
   "execution_count": null,
   "metadata": {},
   "outputs": [],
   "source": []
  },
  {
   "cell_type": "code",
   "execution_count": null,
   "metadata": {},
   "outputs": [],
   "source": []
  },
  {
   "cell_type": "code",
   "execution_count": null,
   "metadata": {},
   "outputs": [],
   "source": []
  },
  {
   "cell_type": "code",
   "execution_count": null,
   "metadata": {},
   "outputs": [],
   "source": []
  },
  {
   "cell_type": "code",
   "execution_count": 54,
   "metadata": {},
   "outputs": [
    {
     "name": "stdout",
     "output_type": "stream",
     "text": [
      "21500000\n",
      "21499500\n",
      "21499000\n",
      "21498500\n",
      "21498000\n",
      "21497500\n",
      "21497000\n",
      "21496500\n",
      "21496000\n",
      "21495500\n",
      "21495000\n",
      "21494500\n",
      "21494000\n",
      "21493500\n",
      "21493000\n",
      "21492500\n",
      "21492000\n",
      "21491500\n",
      "21491000\n",
      "21490500\n",
      "21490000\n",
      "21489500\n",
      "21489000\n",
      "21488500\n",
      "21488000\n",
      "21487500\n",
      "21487000\n",
      "21486500\n",
      "21486000\n",
      "21485500\n",
      "21485000\n",
      "21484500\n",
      "21484000\n",
      "21483500\n",
      "21483000\n",
      "21482500\n",
      "21482000\n",
      "21481500\n",
      "21481000\n",
      "21480500\n",
      "21480000\n",
      "21479500\n",
      "21479000\n",
      "21478500\n",
      "21478000\n",
      "21477500\n",
      "21477000\n",
      "21476500\n",
      "21476000\n",
      "21475500\n",
      "21475000\n",
      "21474500\n",
      "21474000\n",
      "21473500\n",
      "21473000\n",
      "21472500\n",
      "21472000\n",
      "21471500\n",
      "21471000\n",
      "21470500\n",
      "21470000\n",
      "21469500\n",
      "21469000\n",
      "21468500\n",
      "21468000\n",
      "21467500\n",
      "21467000\n",
      "21466500\n",
      "21466000\n",
      "21465500\n",
      "21465000\n",
      "21464500\n",
      "21464000\n",
      "21463500\n",
      "21463000\n",
      "21462500\n",
      "21462000\n",
      "21461500\n",
      "21461000\n",
      "21460500\n",
      "21460000\n",
      "21459500\n",
      "21459000\n",
      "21458500\n",
      "21458000\n",
      "21457500\n",
      "21457000\n",
      "21456500\n",
      "21456000\n",
      "21455500\n",
      "21455000\n",
      "21454500\n",
      "21454000\n",
      "21453500\n",
      "21453000\n",
      "21452500\n",
      "21452000\n",
      "21451500\n",
      "21451000\n",
      "21450500\n",
      "21450000\n",
      "21449500\n",
      "21449000\n",
      "21448500\n",
      "21448000\n",
      "21447500\n",
      "21447000\n",
      "21446500\n",
      "21446000\n",
      "21445500\n",
      "21445000\n",
      "21444500\n",
      "21444000\n",
      "21443500\n",
      "21443000\n",
      "21442500\n",
      "21442000\n",
      "21441500\n",
      "21441000\n",
      "21440500\n",
      "21440000\n",
      "21439500\n",
      "21439000\n",
      "21438500\n",
      "21438000\n",
      "21437500\n",
      "21437000\n",
      "21436500\n",
      "21436000\n",
      "21435500\n",
      "21435000\n",
      "21434500\n",
      "21434000\n",
      "21433500\n",
      "21433000\n",
      "21432500\n",
      "21432000\n",
      "21431500\n",
      "21431000\n",
      "21430500\n",
      "21430000\n",
      "21429500\n",
      "21429000\n",
      "21428500\n",
      "21428000\n",
      "21427500\n",
      "21427000\n",
      "21426500\n",
      "21426000\n",
      "21425500\n",
      "21425000\n",
      "21424500\n",
      "21424000\n",
      "21423500\n",
      "21423000\n",
      "21422500\n",
      "21422000\n",
      "21421500\n",
      "21421000\n",
      "21420500\n",
      "21420000\n",
      "21419500\n",
      "21419000\n",
      "21418500\n",
      "21418000\n",
      "21417500\n",
      "21417000\n",
      "21416500\n",
      "21416000\n",
      "21415500\n",
      "21415000\n",
      "21414500\n",
      "21414000\n",
      "21413500\n",
      "21413000\n",
      "21412500\n",
      "21412000\n",
      "21411500\n",
      "21411000\n",
      "21410500\n",
      "21410000\n",
      "21409500\n",
      "21409000\n",
      "21408500\n",
      "21408000\n",
      "21407500\n",
      "21407000\n",
      "21406500\n",
      "21406000\n",
      "21405500\n",
      "21405000\n",
      "21404500\n",
      "21404000\n",
      "21403500\n",
      "21403000\n",
      "21402500\n",
      "21402000\n",
      "21401500\n",
      "21401000\n",
      "21400500\n"
     ]
    }
   ],
   "source": [
    "#Code for getting Items from Hacker News.\n",
    "\n",
    "for i in range(21500000,21400000,-1):\n",
    "    html = urllib.request.urlopen('https://hacker-news.firebaseio.com/v0/item/' + str(i) + '.json')\n",
    "    jsobj = json.loads(html.read())\n",
    "    \n",
    "    c.execute('INSERT INTO RawJSON (rawtxt, ID) VALUES (?,?)', [json.dumps(jsobj), i])\n",
    "    conn.commit()\n",
    "#    jsonobjs.append(json.loads(html.read()))\n",
    "    if i % 500 == 0:\n",
    "        print(i)"
   ]
  },
  {
   "cell_type": "code",
   "execution_count": 53,
   "metadata": {},
   "outputs": [],
   "source": [
    "#textvar = c.execute('SELECT rawtxt FROM RawJSON')#WHERE ID = 21500000'')\n",
    "#comments = textvar.fetchall()"
   ]
  },
  {
   "cell_type": "code",
   "execution_count": null,
   "metadata": {},
   "outputs": [],
   "source": []
  },
  {
   "cell_type": "code",
   "execution_count": 52,
   "metadata": {},
   "outputs": [],
   "source": [
    "#for com in comments:\n",
    "#    #print(com)\n",
    "#    if com[0] == 'null':\n",
    "#        continue\n",
    "#    data = json.loads(com[0])\n",
    "#    if 'by' not in data:\n",
    "#        continue\n",
    "#    print(json.loads(com[0])['by'])\n",
    "#    print(json.loads(com[0])['id'])"
   ]
  },
  {
   "cell_type": "code",
   "execution_count": null,
   "metadata": {},
   "outputs": [],
   "source": []
  },
  {
   "cell_type": "code",
   "execution_count": 5,
   "metadata": {},
   "outputs": [],
   "source": [
    "textvar = c.execute('SELECT rawtxt FROM RawJSON')#WHERE ID = 21500000'')\n",
    "comments = textvar.fetchall()"
   ]
  },
  {
   "cell_type": "code",
   "execution_count": 6,
   "metadata": {},
   "outputs": [],
   "source": [
    "# Code for pulling the set of all troll ids\n",
    "\n",
    "troll_id_set = set()\n",
    "for com in comments:\n",
    "    if com[0] == 'null':\n",
    "        continue\n",
    "    data = json.loads(com[0])\n",
    "    if 'by' not in data:\n",
    "        continue\n",
    "    troll_id_set.add(json.loads(com[0])['by'])\n",
    "    #print(troll_id)\n",
    "    #c.execute('INSERT INTO Troll_ID VALUES (?)', [troll_id])\n",
    "    #conn.commit()"
   ]
  },
  {
   "cell_type": "code",
   "execution_count": 7,
   "metadata": {},
   "outputs": [
    {
     "data": {
      "text/plain": [
       "31421"
      ]
     },
     "execution_count": 7,
     "metadata": {},
     "output_type": "execute_result"
    }
   ],
   "source": [
    "len(troll_id_set)"
   ]
  },
  {
   "cell_type": "code",
   "execution_count": 58,
   "metadata": {},
   "outputs": [],
   "source": [
    "for troll in troll_id_set:\n",
    "    c.execute('INSERT INTO Troll_ID VALUES (?)', [troll])\n"
   ]
  },
  {
   "cell_type": "code",
   "execution_count": 59,
   "metadata": {},
   "outputs": [],
   "source": [
    "conn.commit()"
   ]
  },
  {
   "cell_type": "code",
   "execution_count": 8,
   "metadata": {},
   "outputs": [
    {
     "name": "stdout",
     "output_type": "stream",
     "text": [
      "logifail\n",
      "shermozle\n",
      "moondev\n",
      "GuyPostington\n",
      "ksenzee\n",
      "jtloong\n",
      "tempsolution\n",
      "mudlark\n",
      "jjazwiecki\n",
      "JasonSage\n",
      "stamps\n",
      "faisalkhalid80\n",
      "ryantuck\n",
      "jonfw\n",
      "bvhg3\n",
      "jonbarker\n",
      "pixelbash\n",
      "methyl\n",
      "siddboots\n",
      "iamondemand\n"
     ]
    }
   ],
   "source": [
    "troll_info = list()\n",
    "for troll in troll_id_set:\n",
    "    try:\n",
    "        html = urllib.request.urlopen('https://hacker-news.firebaseio.com/v0/user/' + troll + '.json')\n",
    "        #html = requests.get('https://hacker-news.firebaseio.com/v0/user/' + troll + '.json')\n",
    "        html = html.read()\n",
    "        #html = html.text\n",
    "        if html == 'null':\n",
    "            continue\n",
    "        jsobj = json.dumps(json.loads(html))\n",
    "        troll_info.append(jsobj)\n",
    "        #time.sleep(.3)\n",
    "\n",
    "        c.execute('INSERT INTO TrollInfo VALUES (?)', [jsobj])\n",
    "        conn.commit()\n",
    "    except:\n",
    "        print(troll)\n",
    "        time.sleep(1)\n",
    "        continue\n",
    "        \n",
    "#    jsonobjs.append(json.loads(html.read()))\n",
    "    #if i % 500 == 0:\n",
    "    #    print(i)"
   ]
  },
  {
   "cell_type": "code",
   "execution_count": null,
   "metadata": {},
   "outputs": [],
   "source": []
  },
  {
   "cell_type": "code",
   "execution_count": null,
   "metadata": {},
   "outputs": [],
   "source": []
  },
  {
   "cell_type": "code",
   "execution_count": null,
   "metadata": {},
   "outputs": [],
   "source": []
  },
  {
   "cell_type": "code",
   "execution_count": null,
   "metadata": {},
   "outputs": [],
   "source": []
  },
  {
   "cell_type": "code",
   "execution_count": null,
   "metadata": {},
   "outputs": [],
   "source": []
  },
  {
   "cell_type": "code",
   "execution_count": null,
   "metadata": {},
   "outputs": [],
   "source": []
  },
  {
   "cell_type": "code",
   "execution_count": null,
   "metadata": {},
   "outputs": [],
   "source": []
  },
  {
   "cell_type": "code",
   "execution_count": null,
   "metadata": {},
   "outputs": [],
   "source": []
  },
  {
   "cell_type": "code",
   "execution_count": null,
   "metadata": {},
   "outputs": [],
   "source": []
  },
  {
   "cell_type": "code",
   "execution_count": null,
   "metadata": {},
   "outputs": [],
   "source": []
  },
  {
   "cell_type": "code",
   "execution_count": 67,
   "metadata": {},
   "outputs": [
    {
     "data": {
      "text/plain": [
       "18"
      ]
     },
     "execution_count": 67,
     "metadata": {},
     "output_type": "execute_result"
    }
   ],
   "source": [
    "len(troll_info)"
   ]
  },
  {
   "cell_type": "code",
   "execution_count": null,
   "metadata": {},
   "outputs": [],
   "source": []
  },
  {
   "cell_type": "code",
   "execution_count": null,
   "metadata": {},
   "outputs": [],
   "source": []
  }
 ],
 "metadata": {
  "kernelspec": {
   "display_name": "Python 3",
   "language": "python",
   "name": "python3"
  },
  "language_info": {
   "codemirror_mode": {
    "name": "ipython",
    "version": 3
   },
   "file_extension": ".py",
   "mimetype": "text/x-python",
   "name": "python",
   "nbconvert_exporter": "python",
   "pygments_lexer": "ipython3",
   "version": "3.7.1"
  }
 },
 "nbformat": 4,
 "nbformat_minor": 2
}
