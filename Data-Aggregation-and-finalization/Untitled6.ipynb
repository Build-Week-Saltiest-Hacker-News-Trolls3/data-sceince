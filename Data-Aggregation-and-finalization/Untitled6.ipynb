{
 "cells": [
  {
   "cell_type": "markdown",
   "metadata": {},
   "source": [
    "# Pull all of the Items from the Database, and parse them out, putting them in a new database.\n",
    "# "
   ]
  },
  {
   "cell_type": "code",
   "execution_count": 38,
   "metadata": {},
   "outputs": [],
   "source": [
    "import sqlite3\n",
    "import json\n",
    "import urllib"
   ]
  },
  {
   "cell_type": "code",
   "execution_count": 3,
   "metadata": {},
   "outputs": [],
   "source": [
    "conn = sqlite3.connect('HackerRankTopDown1.sqlite3')\n",
    "c = conn.cursor()"
   ]
  },
  {
   "cell_type": "code",
   "execution_count": 4,
   "metadata": {},
   "outputs": [],
   "source": [
    "textvar = c.execute('SELECT rawtxt FROM RawJSON')#WHERE ID = 21500000'')"
   ]
  },
  {
   "cell_type": "code",
   "execution_count": null,
   "metadata": {},
   "outputs": [],
   "source": [
    "x = 'TRUE'\n",
    "while x == 'TRUE':\n",
    "    comment = textvar.fetchone()\n",
    "    if comment == 'None':\n",
    "        break\n",
    "    #print(comment[0][2:(len(comment)-2)])"
   ]
  },
  {
   "cell_type": "code",
   "execution_count": 39,
   "metadata": {},
   "outputs": [],
   "source": [
    "testcomment = comment[0][2:(len(comment)-2)]"
   ]
  },
  {
   "cell_type": "code",
   "execution_count": 45,
   "metadata": {},
   "outputs": [
    {
     "data": {
      "text/plain": [
       "'BubRoss'"
      ]
     },
     "execution_count": 45,
     "metadata": {},
     "output_type": "execute_result"
    }
   ],
   "source": [
    "json.loads(testcomment)['by']"
   ]
  },
  {
   "cell_type": "code",
   "execution_count": 5,
   "metadata": {},
   "outputs": [],
   "source": [
    "comments = textvar.fetchall()"
   ]
  },
  {
   "cell_type": "code",
   "execution_count": 19,
   "metadata": {},
   "outputs": [
    {
     "name": "stdout",
     "output_type": "stream",
     "text": [
      "{\"by\":\"100-xyz\",\"id\":21400000,\"kids\":[21402880],\"parent\":21399674,\"text\":\"Can you elaborate on how Haxe would contribute to this?  Currently, I am envisioning only browsers across all platforms.\",\"time\":1572455358,\"type\":\"comment\"}\n",
      "{\"by\":\"melvinroest\",\"id\":21400001,\"parent\":21399910,\"text\":\"Bret Victor wrote an amazing essay on interaction design in 2011 [1].<p>After reading it, I thought &quot;we should doodlify the web a lot more.&quot; A keyboard and mouse, while useful, are restricting in odd ways. Bret Victor explains in his essay how this is restricting, and what the way forward could be.<p>My contribution to it is simple and humble and definitely just a small step compared to Bret Victor his vision. I present Doodledocs: collaborative drawing, cross-device, stylus pressure-sensitive first, mouse + keyboard a distant second.<p>Doesn&#x27;t this exist? Well, I&#x27;ve seen collaborative drawing that did not have web annotation or pressure sensitivity (e.g. Google Jamboard). And in the best cases where I did see most of these things (e.g. Inko [4, video]), they were native apps which locks you into an ecosystem. I want things to be open and free. And I want pressure sensitivity, collaborative drawing and web annotation into one place as the web could then feel like paper that we can draw on, together.<p>You don&#x27;t have to. But you can! :-D<p>So, in my opinion, something such as Doodledocs doesn&#x27;t exist.<p>Here is a video of me using it on an iPad [2]. I also tested it on a Wacom connected to a laptop. It&#x27;s a bit buggy still (cross-browser compatibility&#x2F;cross-device issues, I&#x27;m testing as much as I can nowadays). So I hope seeing me how I use it will show you how to deal with the slightly buggy situations :)<p>Oh, and it&#x27;s all pure frontend &lt;3 (with some P2P magic which is still only frontend :D). Who needs a backend anyways? ;-)<p>The code is on Github [3].<p>And it&#x27;s free.<p>[1] <a href=\\\\\"https:&#x2F;&#x2F;news.ycombinator.com&#x2F;item?id=21116948\\\\\" rel=\\\\\"nofollow\\\\\">https:&#x2F;&#x2F;news.ycombinator.com&#x2F;item?id=21116948</a><p>[2] <a href=\\\\\"https:&#x2F;&#x2F;www.youtube.com&#x2F;watch?v=QhrNl-fRrC8\\\\\" rel=\\\\\"nofollow\\\\\">https:&#x2F;&#x2F;www.youtube.com&#x2F;watch?v=QhrNl-fRrC8</a><p>Summary of features + timestamps:<p>00:31 - pencil usage<p>00:40 - eraser usage<p>01:00 - color<p>01:30 - opacity (this allows you to get a more pencil-like or pen-like feel)<p>02:20 - Zooming in (menu zooming with you is an iPad feature only)<p>02:40 - Download your doodle<p>03:15 - Upload your doodle (and continue from where you left off)<p>04:00 - Share your doodle (i.e. collaborate together by sending the link to someone else)<p>05:00 - Scroll vs. draw mode (if you&#x27;re in draw mode you can&#x27;t scroll with your pencil but you can scrub with your fingers)<p>05:50 - Image annotation example (an image from Unsplash by Andreea Popa -- <a href=\\\\\"https:&#x2F;&#x2F;unsplash.com&#x2F;@elfcodobelf\\\\\" rel=\\\\\"nofollow\\\\\">https:&#x2F;&#x2F;unsplash.com&#x2F;@elfcodobelf</a>)<p>07:00 - Skip this part (here I am done with the website annotation example and fumbling around)<p>07:50 - Make website or image transparent (handy for tracing drawings, websites or pictures) -- also an example of me having fun with the app<p>11:00 - Website annotation example (using unsplash.com)<p>12:45 - Hacker News annotation example (same thing as 11:00, I&#x27;m a fan of this site :) )<p>13:00 - Going back to a blank canvas (leave the URL bar empty)<p>[3] <a href=\\\\\"https:&#x2F;&#x2F;github.com&#x2F;melvinroest&#x2F;doodledocs\\\\\" rel=\\\\\"nofollow\\\\\">https:&#x2F;&#x2F;github.com&#x2F;melvinroest&#x2F;doodledocs</a><p>[4] <a href=\\\\\"https:&#x2F;&#x2F;www.youtube.com&#x2F;watch?v=QdjPVYxUhJw\\\\\" rel=\\\\\"nofollow\\\\\">https:&#x2F;&#x2F;www.youtube.com&#x2F;watch?v=QdjPVYxUhJw</a>\",\"time\":1572455362,\"type\":\"comment\"}\n"
     ]
    },
    {
     "ename": "JSONDecodeError",
     "evalue": "Expecting ',' delimiter: line 1 column 1734 (char 1733)",
     "output_type": "error",
     "traceback": [
      "\u001b[0;31m---------------------------------------------------------------------------\u001b[0m",
      "\u001b[0;31mJSONDecodeError\u001b[0m                           Traceback (most recent call last)",
      "\u001b[0;32m<ipython-input-19-0bc7c9bd307d>\u001b[0m in \u001b[0;36m<module>\u001b[0;34m\u001b[0m\n\u001b[1;32m      3\u001b[0m     \u001b[0mtest\u001b[0m \u001b[0;34m=\u001b[0m \u001b[0mcom\u001b[0m\u001b[0;34m[\u001b[0m\u001b[0;36m0\u001b[0m\u001b[0;34m]\u001b[0m\u001b[0;34m[\u001b[0m\u001b[0;36m2\u001b[0m\u001b[0;34m:\u001b[0m\u001b[0;34m(\u001b[0m\u001b[0mlen\u001b[0m\u001b[0;34m(\u001b[0m\u001b[0mcom\u001b[0m\u001b[0;34m)\u001b[0m\u001b[0;34m-\u001b[0m\u001b[0;36m2\u001b[0m\u001b[0;34m)\u001b[0m\u001b[0;34m]\u001b[0m\u001b[0;34m\u001b[0m\u001b[0;34m\u001b[0m\u001b[0m\n\u001b[1;32m      4\u001b[0m     \u001b[0mprint\u001b[0m\u001b[0;34m(\u001b[0m\u001b[0mtest\u001b[0m\u001b[0;34m)\u001b[0m\u001b[0;34m\u001b[0m\u001b[0;34m\u001b[0m\u001b[0m\n\u001b[0;32m----> 5\u001b[0;31m     \u001b[0mtrollname\u001b[0m \u001b[0;34m=\u001b[0m \u001b[0mjson\u001b[0m\u001b[0;34m.\u001b[0m\u001b[0mloads\u001b[0m\u001b[0;34m(\u001b[0m\u001b[0mtest\u001b[0m\u001b[0;34m)\u001b[0m\u001b[0;34m[\u001b[0m\u001b[0;34m'by'\u001b[0m\u001b[0;34m]\u001b[0m\u001b[0;34m\u001b[0m\u001b[0;34m\u001b[0m\u001b[0m\n\u001b[0m\u001b[1;32m      6\u001b[0m     \u001b[0mtroll_id\u001b[0m\u001b[0;34m.\u001b[0m\u001b[0mappend\u001b[0m\u001b[0;34m(\u001b[0m\u001b[0mtrollname\u001b[0m\u001b[0;34m)\u001b[0m\u001b[0;34m\u001b[0m\u001b[0;34m\u001b[0m\u001b[0m\n\u001b[1;32m      7\u001b[0m     \u001b[0;31m#print(troll_id)\u001b[0m\u001b[0;34m\u001b[0m\u001b[0;34m\u001b[0m\u001b[0;34m\u001b[0m\u001b[0m\n",
      "\u001b[0;32m~/anaconda3/lib/python3.7/json/__init__.py\u001b[0m in \u001b[0;36mloads\u001b[0;34m(s, encoding, cls, object_hook, parse_float, parse_int, parse_constant, object_pairs_hook, **kw)\u001b[0m\n\u001b[1;32m    346\u001b[0m             \u001b[0mparse_int\u001b[0m \u001b[0;32mis\u001b[0m \u001b[0;32mNone\u001b[0m \u001b[0;32mand\u001b[0m \u001b[0mparse_float\u001b[0m \u001b[0;32mis\u001b[0m \u001b[0;32mNone\u001b[0m \u001b[0;32mand\u001b[0m\u001b[0;34m\u001b[0m\u001b[0;34m\u001b[0m\u001b[0m\n\u001b[1;32m    347\u001b[0m             parse_constant is None and object_pairs_hook is None and not kw):\n\u001b[0;32m--> 348\u001b[0;31m         \u001b[0;32mreturn\u001b[0m \u001b[0m_default_decoder\u001b[0m\u001b[0;34m.\u001b[0m\u001b[0mdecode\u001b[0m\u001b[0;34m(\u001b[0m\u001b[0ms\u001b[0m\u001b[0;34m)\u001b[0m\u001b[0;34m\u001b[0m\u001b[0;34m\u001b[0m\u001b[0m\n\u001b[0m\u001b[1;32m    349\u001b[0m     \u001b[0;32mif\u001b[0m \u001b[0mcls\u001b[0m \u001b[0;32mis\u001b[0m \u001b[0;32mNone\u001b[0m\u001b[0;34m:\u001b[0m\u001b[0;34m\u001b[0m\u001b[0;34m\u001b[0m\u001b[0m\n\u001b[1;32m    350\u001b[0m         \u001b[0mcls\u001b[0m \u001b[0;34m=\u001b[0m \u001b[0mJSONDecoder\u001b[0m\u001b[0;34m\u001b[0m\u001b[0;34m\u001b[0m\u001b[0m\n",
      "\u001b[0;32m~/anaconda3/lib/python3.7/json/decoder.py\u001b[0m in \u001b[0;36mdecode\u001b[0;34m(self, s, _w)\u001b[0m\n\u001b[1;32m    335\u001b[0m \u001b[0;34m\u001b[0m\u001b[0m\n\u001b[1;32m    336\u001b[0m         \"\"\"\n\u001b[0;32m--> 337\u001b[0;31m         \u001b[0mobj\u001b[0m\u001b[0;34m,\u001b[0m \u001b[0mend\u001b[0m \u001b[0;34m=\u001b[0m \u001b[0mself\u001b[0m\u001b[0;34m.\u001b[0m\u001b[0mraw_decode\u001b[0m\u001b[0;34m(\u001b[0m\u001b[0ms\u001b[0m\u001b[0;34m,\u001b[0m \u001b[0midx\u001b[0m\u001b[0;34m=\u001b[0m\u001b[0m_w\u001b[0m\u001b[0;34m(\u001b[0m\u001b[0ms\u001b[0m\u001b[0;34m,\u001b[0m \u001b[0;36m0\u001b[0m\u001b[0;34m)\u001b[0m\u001b[0;34m.\u001b[0m\u001b[0mend\u001b[0m\u001b[0;34m(\u001b[0m\u001b[0;34m)\u001b[0m\u001b[0;34m)\u001b[0m\u001b[0;34m\u001b[0m\u001b[0;34m\u001b[0m\u001b[0m\n\u001b[0m\u001b[1;32m    338\u001b[0m         \u001b[0mend\u001b[0m \u001b[0;34m=\u001b[0m \u001b[0m_w\u001b[0m\u001b[0;34m(\u001b[0m\u001b[0ms\u001b[0m\u001b[0;34m,\u001b[0m \u001b[0mend\u001b[0m\u001b[0;34m)\u001b[0m\u001b[0;34m.\u001b[0m\u001b[0mend\u001b[0m\u001b[0;34m(\u001b[0m\u001b[0;34m)\u001b[0m\u001b[0;34m\u001b[0m\u001b[0;34m\u001b[0m\u001b[0m\n\u001b[1;32m    339\u001b[0m         \u001b[0;32mif\u001b[0m \u001b[0mend\u001b[0m \u001b[0;34m!=\u001b[0m \u001b[0mlen\u001b[0m\u001b[0;34m(\u001b[0m\u001b[0ms\u001b[0m\u001b[0;34m)\u001b[0m\u001b[0;34m:\u001b[0m\u001b[0;34m\u001b[0m\u001b[0;34m\u001b[0m\u001b[0m\n",
      "\u001b[0;32m~/anaconda3/lib/python3.7/json/decoder.py\u001b[0m in \u001b[0;36mraw_decode\u001b[0;34m(self, s, idx)\u001b[0m\n\u001b[1;32m    351\u001b[0m         \"\"\"\n\u001b[1;32m    352\u001b[0m         \u001b[0;32mtry\u001b[0m\u001b[0;34m:\u001b[0m\u001b[0;34m\u001b[0m\u001b[0;34m\u001b[0m\u001b[0m\n\u001b[0;32m--> 353\u001b[0;31m             \u001b[0mobj\u001b[0m\u001b[0;34m,\u001b[0m \u001b[0mend\u001b[0m \u001b[0;34m=\u001b[0m \u001b[0mself\u001b[0m\u001b[0;34m.\u001b[0m\u001b[0mscan_once\u001b[0m\u001b[0;34m(\u001b[0m\u001b[0ms\u001b[0m\u001b[0;34m,\u001b[0m \u001b[0midx\u001b[0m\u001b[0;34m)\u001b[0m\u001b[0;34m\u001b[0m\u001b[0;34m\u001b[0m\u001b[0m\n\u001b[0m\u001b[1;32m    354\u001b[0m         \u001b[0;32mexcept\u001b[0m \u001b[0mStopIteration\u001b[0m \u001b[0;32mas\u001b[0m \u001b[0merr\u001b[0m\u001b[0;34m:\u001b[0m\u001b[0;34m\u001b[0m\u001b[0;34m\u001b[0m\u001b[0m\n\u001b[1;32m    355\u001b[0m             \u001b[0;32mraise\u001b[0m \u001b[0mJSONDecodeError\u001b[0m\u001b[0;34m(\u001b[0m\u001b[0;34m\"Expecting value\"\u001b[0m\u001b[0;34m,\u001b[0m \u001b[0ms\u001b[0m\u001b[0;34m,\u001b[0m \u001b[0merr\u001b[0m\u001b[0;34m.\u001b[0m\u001b[0mvalue\u001b[0m\u001b[0;34m)\u001b[0m \u001b[0;32mfrom\u001b[0m \u001b[0;32mNone\u001b[0m\u001b[0;34m\u001b[0m\u001b[0;34m\u001b[0m\u001b[0m\n",
      "\u001b[0;31mJSONDecodeError\u001b[0m: Expecting ',' delimiter: line 1 column 1734 (char 1733)"
     ]
    }
   ],
   "source": [
    "troll_id = []\n",
    "for com in comments:\n",
    "    test = com[0][2:(len(com)-2)]\n",
    "    print(test)\n",
    "    trollname = json.loads(test)['by']\n",
    "    troll_id.append(trollname)\n",
    "    #print(troll_id)\n",
    "    #print(com[0][2:(len(com)-2)])"
   ]
  },
  {
   "cell_type": "code",
   "execution_count": 35,
   "metadata": {},
   "outputs": [
    {
     "data": {
      "text/plain": [
       "'EuphoricEmu'"
      ]
     },
     "execution_count": 35,
     "metadata": {},
     "output_type": "execute_result"
    }
   ],
   "source": [
    "json.loads('{\"by\":\"EuphoricEmu\",\n",
    "           \"id\":21500003,\"kids\":[21501019],\"parent\":21499851,\"text\":\"Could not agree more! As someone who works as a contractor for two relatively large RHIOs I was absolutely dumbfounded by how contradictory everything is when I first started. I\\xe2\\x80\\x99m in a unique position where I get to interact with dozens of EMR&#x2F;EHR vendors. They\\xe2\\x80\\x99re all terrible.\",\"time\":1573417733,\"type\":\"comment\"}')['by']"
   ]
  },
  {
   "cell_type": "code",
   "execution_count": 53,
   "metadata": {},
   "outputs": [
    {
     "data": {
      "text/plain": [
       "{'by': 'melvinroest',\n",
       " 'id': 21400001,\n",
       " 'parent': 21399910,\n",
       " 'text': 'Bret Victor wrote an amazing essay on interaction design in 2011 [1].<p>After reading it, I thought &quot;we should doodlify the web a lot more.&quot; A keyboard and mouse, while useful, are restricting in odd ways. Bret Victor explains in his essay how this is restricting, and what the way forward could be.<p>My contribution to it is simple and humble and definitely just a small step compared to Bret Victor his vision. I present Doodledocs: collaborative drawing, cross-device, stylus pressure-sensitive first, mouse + keyboard a distant second.<p>Doesn&#x27;t this exist? Well, I&#x27;ve seen collaborative drawing that did not have web annotation or pressure sensitivity (e.g. Google Jamboard). And in the best cases where I did see most of these things (e.g. Inko [4, video]), they were native apps which locks you into an ecosystem. I want things to be open and free. And I want pressure sensitivity, collaborative drawing and web annotation into one place as the web could then feel like paper that we can draw on, together.<p>You don&#x27;t have to. But you can! :-D<p>So, in my opinion, something such as Doodledocs doesn&#x27;t exist.<p>Here is a video of me using it on an iPad [2]. I also tested it on a Wacom connected to a laptop. It&#x27;s a bit buggy still (cross-browser compatibility&#x2F;cross-device issues, I&#x27;m testing as much as I can nowadays). So I hope seeing me how I use it will show you how to deal with the slightly buggy situations :)<p>Oh, and it&#x27;s all pure frontend &lt;3 (with some P2P magic which is still only frontend :D). Who needs a backend anyways? ;-)<p>The code is on Github [3].<p>And it&#x27;s free.<p>[1] <a href=\"https:&#x2F;&#x2F;news.ycombinator.com&#x2F;item?id=21116948\" rel=\"nofollow\">https:&#x2F;&#x2F;news.ycombinator.com&#x2F;item?id=21116948</a><p>[2] <a href=\"https:&#x2F;&#x2F;www.youtube.com&#x2F;watch?v=QhrNl-fRrC8\" rel=\"nofollow\">https:&#x2F;&#x2F;www.youtube.com&#x2F;watch?v=QhrNl-fRrC8</a><p>Summary of features + timestamps:<p>00:31 - pencil usage<p>00:40 - eraser usage<p>01:00 - color<p>01:30 - opacity (this allows you to get a more pencil-like or pen-like feel)<p>02:20 - Zooming in (menu zooming with you is an iPad feature only)<p>02:40 - Download your doodle<p>03:15 - Upload your doodle (and continue from where you left off)<p>04:00 - Share your doodle (i.e. collaborate together by sending the link to someone else)<p>05:00 - Scroll vs. draw mode (if you&#x27;re in draw mode you can&#x27;t scroll with your pencil but you can scrub with your fingers)<p>05:50 - Image annotation example (an image from Unsplash by Andreea Popa -- <a href=\"https:&#x2F;&#x2F;unsplash.com&#x2F;@elfcodobelf\" rel=\"nofollow\">https:&#x2F;&#x2F;unsplash.com&#x2F;@elfcodobelf</a>)<p>07:00 - Skip this part (here I am done with the website annotation example and fumbling around)<p>07:50 - Make website or image transparent (handy for tracing drawings, websites or pictures) -- also an example of me having fun with the app<p>11:00 - Website annotation example (using unsplash.com)<p>12:45 - Hacker News annotation example (same thing as 11:00, I&#x27;m a fan of this site :) )<p>13:00 - Going back to a blank canvas (leave the URL bar empty)<p>[3] <a href=\"https:&#x2F;&#x2F;github.com&#x2F;melvinroest&#x2F;doodledocs\" rel=\"nofollow\">https:&#x2F;&#x2F;github.com&#x2F;melvinroest&#x2F;doodledocs</a><p>[4] <a href=\"https:&#x2F;&#x2F;www.youtube.com&#x2F;watch?v=QdjPVYxUhJw\" rel=\"nofollow\">https:&#x2F;&#x2F;www.youtube.com&#x2F;watch?v=QdjPVYxUhJw</a>',\n",
       " 'time': 1572455362,\n",
       " 'type': 'comment'}"
      ]
     },
     "execution_count": 53,
     "metadata": {},
     "output_type": "execute_result"
    }
   ],
   "source": [
    "json.loads('{\"by\":\"melvinroest\",\"id\":21400001,\"parent\":21399910,\"text\":\"Bret Victor wrote an amazing essay on interaction design in 2011 [1].<p>After reading it, I thought &quot;we should doodlify the web a lot more.&quot; A keyboard and mouse, while useful, are restricting in odd ways. Bret Victor explains in his essay how this is restricting, and what the way forward could be.<p>My contribution to it is simple and humble and definitely just a small step compared to Bret Victor his vision. I present Doodledocs: collaborative drawing, cross-device, stylus pressure-sensitive first, mouse + keyboard a distant second.<p>Doesn&#x27;t this exist? Well, I&#x27;ve seen collaborative drawing that did not have web annotation or pressure sensitivity (e.g. Google Jamboard). And in the best cases where I did see most of these things (e.g. Inko [4, video]), they were native apps which locks you into an ecosystem. I want things to be open and free. And I want pressure sensitivity, collaborative drawing and web annotation into one place as the web could then feel like paper that we can draw on, together.<p>You don&#x27;t have to. But you can! :-D<p>So, in my opinion, something such as Doodledocs doesn&#x27;t exist.<p>Here is a video of me using it on an iPad [2]. I also tested it on a Wacom connected to a laptop. It&#x27;s a bit buggy still (cross-browser compatibility&#x2F;cross-device issues, I&#x27;m testing as much as I can nowadays). So I hope seeing me how I use it will show you how to deal with the slightly buggy situations :)<p>Oh, and it&#x27;s all pure frontend &lt;3 (with some P2P magic which is still only frontend :D). Who needs a backend anyways? ;-)<p>The code is on Github [3].<p>And it&#x27;s free.<p>[1] <a href=\\\\\"https:&#x2F;&#x2F;news.ycombinator.com&#x2F;item?id=21116948\\\\\" rel=\\\\\"nofollow\\\\\">https:&#x2F;&#x2F;news.ycombinator.com&#x2F;item?id=21116948</a><p>[2] <a href=\\\\\"https:&#x2F;&#x2F;www.youtube.com&#x2F;watch?v=QhrNl-fRrC8\\\\\" rel=\\\\\"nofollow\\\\\">https:&#x2F;&#x2F;www.youtube.com&#x2F;watch?v=QhrNl-fRrC8</a><p>Summary of features + timestamps:<p>00:31 - pencil usage<p>00:40 - eraser usage<p>01:00 - color<p>01:30 - opacity (this allows you to get a more pencil-like or pen-like feel)<p>02:20 - Zooming in (menu zooming with you is an iPad feature only)<p>02:40 - Download your doodle<p>03:15 - Upload your doodle (and continue from where you left off)<p>04:00 - Share your doodle (i.e. collaborate together by sending the link to someone else)<p>05:00 - Scroll vs. draw mode (if you&#x27;re in draw mode you can&#x27;t scroll with your pencil but you can scrub with your fingers)<p>05:50 - Image annotation example (an image from Unsplash by Andreea Popa -- <a href=\\\\\"https:&#x2F;&#x2F;unsplash.com&#x2F;@elfcodobelf\\\\\" rel=\\\\\"nofollow\\\\\">https:&#x2F;&#x2F;unsplash.com&#x2F;@elfcodobelf</a>)<p>07:00 - Skip this part (here I am done with the website annotation example and fumbling around)<p>07:50 - Make website or image transparent (handy for tracing drawings, websites or pictures) -- also an example of me having fun with the app<p>11:00 - Website annotation example (using unsplash.com)<p>12:45 - Hacker News annotation example (same thing as 11:00, I&#x27;m a fan of this site :) )<p>13:00 - Going back to a blank canvas (leave the URL bar empty)<p>[3] <a href=\\\\\"https:&#x2F;&#x2F;github.com&#x2F;melvinroest&#x2F;doodledocs\\\\\" rel=\\\\\"nofollow\\\\\">https:&#x2F;&#x2F;github.com&#x2F;melvinroest&#x2F;doodledocs</a><p>[4] <a href=\\\\\"https:&#x2F;&#x2F;www.youtube.com&#x2F;watch?v=QdjPVYxUhJw\\\\\" rel=\\\\\"nofollow\\\\\">https:&#x2F;&#x2F;www.youtube.com&#x2F;watch?v=QdjPVYxUhJw</a>\",\"time\":1572455362,\"type\":\"comment\"}')"
   ]
  },
  {
   "cell_type": "code",
   "execution_count": 38,
   "metadata": {},
   "outputs": [
    {
     "data": {
      "text/plain": [
       "402"
      ]
     },
     "execution_count": 38,
     "metadata": {},
     "output_type": "execute_result"
    }
   ],
   "source": [
    "len('{\"by\":\"EuphoricEmu\",\"id\":21500003,\"kids\":[21501019],\"parent\":21499851,\"text\":\"Could not agree more! As someone who works as a contractor for two relatively large RHIOs I was absolutely dumbfounded by how contradictory everything is when I first started. I\\xe2\\x80\\x99m in a unique position where I get to interact with dozens of EMR&#x2F;EHR vendors. They\\xe2\\x80\\x99re all terrible.\",\"time\":1573417733,\"type\":\"comment\"}')"
   ]
  },
  {
   "cell_type": "code",
   "execution_count": 25,
   "metadata": {},
   "outputs": [
    {
     "name": "stdout",
     "output_type": "stream",
     "text": [
      "{\"by\":\"100-xyz\",\"id\":21400000,\"kids\":[21402880],\"parent\":21399674,\"text\":\"Can you elaborate on how Haxe would contribute to this?  Currently, I am envisioning only browsers across all platforms.\",\"time\":1572455358,\"type\":\"comment\"}\n"
     ]
    }
   ],
   "source": [
    "com = comments[0]\n",
    "print(com[0][2:(len(com)-2)])"
   ]
  },
  {
   "cell_type": "code",
   "execution_count": 36,
   "metadata": {},
   "outputs": [],
   "source": [
    "com = comments[1]"
   ]
  },
  {
   "cell_type": "code",
   "execution_count": 55,
   "metadata": {},
   "outputs": [
    {
     "name": "stdout",
     "output_type": "stream",
     "text": [
      "{\"by\":\"melvinroest\",\"id\":21400001,\"parent\":21399910,\"text\":\"Bret Victor wrote an amazing essay on interaction design in 2011 [1].<p>After reading it, I thought &quot;we should doodlify the web a lot more.&quot; A keyboard and mouse, while useful, are restricting in odd ways. Bret Victor explains in his essay how this is restricting, and what the way forward could be.<p>My contribution to it is simple and humble and definitely just a small step compared to Bret Victor his vision. I present Doodledocs: collaborative drawing, cross-device, stylus pressure-sensitive first, mouse + keyboard a distant second.<p>Doesn&#x27;t this exist? Well, I&#x27;ve seen collaborative drawing that did not have web annotation or pressure sensitivity (e.g. Google Jamboard). And in the best cases where I did see most of these things (e.g. Inko [4, video]), they were native apps which locks you into an ecosystem. I want things to be open and free. And I want pressure sensitivity, collaborative drawing and web annotation into one place as the web could then feel like paper that we can draw on, together.<p>You don&#x27;t have to. But you can! :-D<p>So, in my opinion, something such as Doodledocs doesn&#x27;t exist.<p>Here is a video of me using it on an iPad [2]. I also tested it on a Wacom connected to a laptop. It&#x27;s a bit buggy still (cross-browser compatibility&#x2F;cross-device issues, I&#x27;m testing as much as I can nowadays). So I hope seeing me how I use it will show you how to deal with the slightly buggy situations :)<p>Oh, and it&#x27;s all pure frontend &lt;3 (with some P2P magic which is still only frontend :D). Who needs a backend anyways? ;-)<p>The code is on Github [3].<p>And it&#x27;s free.<p>[1] <a href=\\\\\"https:&#x2F;&#x2F;news.ycombinator.com&#x2F;item?id=21116948\\\\\" rel=\\\\\"nofollow\\\\\">https:&#x2F;&#x2F;news.ycombinator.com&#x2F;item?id=21116948</a><p>[2] <a href=\\\\\"https:&#x2F;&#x2F;www.youtube.com&#x2F;watch?v=QhrNl-fRrC8\\\\\" rel=\\\\\"nofollow\\\\\">https:&#x2F;&#x2F;www.youtube.com&#x2F;watch?v=QhrNl-fRrC8</a><p>Summary of features + timestamps:<p>00:31 - pencil usage<p>00:40 - eraser usage<p>01:00 - color<p>01:30 - opacity (this allows you to get a more pencil-like or pen-like feel)<p>02:20 - Zooming in (menu zooming with you is an iPad feature only)<p>02:40 - Download your doodle<p>03:15 - Upload your doodle (and continue from where you left off)<p>04:00 - Share your doodle (i.e. collaborate together by sending the link to someone else)<p>05:00 - Scroll vs. draw mode (if you&#x27;re in draw mode you can&#x27;t scroll with your pencil but you can scrub with your fingers)<p>05:50 - Image annotation example (an image from Unsplash by Andreea Popa -- <a href=\\\\\"https:&#x2F;&#x2F;unsplash.com&#x2F;@elfcodobelf\\\\\" rel=\\\\\"nofollow\\\\\">https:&#x2F;&#x2F;unsplash.com&#x2F;@elfcodobelf</a>)<p>07:00 - Skip this part (here I am done with the website annotation example and fumbling around)<p>07:50 - Make website or image transparent (handy for tracing drawings, websites or pictures) -- also an example of me having fun with the app<p>11:00 - Website annotation example (using unsplash.com)<p>12:45 - Hacker News annotation example (same thing as 11:00, I&#x27;m a fan of this site :) )<p>13:00 - Going back to a blank canvas (leave the URL bar empty)<p>[3] <a href=\\\\\"https:&#x2F;&#x2F;github.com&#x2F;melvinroest&#x2F;doodledocs\\\\\" rel=\\\\\"nofollow\\\\\">https:&#x2F;&#x2F;github.com&#x2F;melvinroest&#x2F;doodledocs</a><p>[4] <a href=\\\\\"https:&#x2F;&#x2F;www.youtube.com&#x2F;watch?v=QdjPVYxUhJw\\\\\" rel=\\\\\"nofollow\\\\\">https:&#x2F;&#x2F;www.youtube.com&#x2F;watch?v=QdjPVYxUhJw</a>\",\"time\":1572455362,\"type\":\"comment\"}\n"
     ]
    },
    {
     "ename": "TypeError",
     "evalue": "byte indices must be integers or slices, not str",
     "output_type": "error",
     "traceback": [
      "\u001b[0;31m---------------------------------------------------------------------------\u001b[0m",
      "\u001b[0;31mTypeError\u001b[0m                                 Traceback (most recent call last)",
      "\u001b[0;32m<ipython-input-55-31f927aa9382>\u001b[0m in \u001b[0;36m<module>\u001b[0;34m\u001b[0m\n\u001b[1;32m      3\u001b[0m \u001b[0mtest\u001b[0m \u001b[0;34m=\u001b[0m \u001b[0mcom\u001b[0m\u001b[0;34m[\u001b[0m\u001b[0;36m0\u001b[0m\u001b[0;34m]\u001b[0m\u001b[0;34m[\u001b[0m\u001b[0;36m2\u001b[0m\u001b[0;34m:\u001b[0m\u001b[0mlen\u001b[0m\u001b[0;34m(\u001b[0m\u001b[0mcom\u001b[0m\u001b[0;34m)\u001b[0m\u001b[0;34m-\u001b[0m\u001b[0;36m2\u001b[0m\u001b[0;34m]\u001b[0m\u001b[0;34m\u001b[0m\u001b[0;34m\u001b[0m\u001b[0m\n\u001b[1;32m      4\u001b[0m \u001b[0mprint\u001b[0m\u001b[0;34m(\u001b[0m\u001b[0mtest\u001b[0m\u001b[0;34m)\u001b[0m\u001b[0;34m\u001b[0m\u001b[0;34m\u001b[0m\u001b[0m\n\u001b[0;32m----> 5\u001b[0;31m \u001b[0mtrollname\u001b[0m \u001b[0;34m=\u001b[0m \u001b[0mjson\u001b[0m\u001b[0;34m.\u001b[0m\u001b[0mloads\u001b[0m\u001b[0;34m(\u001b[0m\u001b[0mbytes\u001b[0m\u001b[0;34m(\u001b[0m\u001b[0mtest\u001b[0m\u001b[0;34m,\u001b[0m \u001b[0;34m'utf-8'\u001b[0m\u001b[0;34m)\u001b[0m\u001b[0;34m[\u001b[0m\u001b[0;34m'by'\u001b[0m\u001b[0;34m]\u001b[0m\u001b[0;34m)\u001b[0m\u001b[0;34m\u001b[0m\u001b[0;34m\u001b[0m\u001b[0m\n\u001b[0m\u001b[1;32m      6\u001b[0m \u001b[0;31m#troll_id.append(trollname)\u001b[0m\u001b[0;34m\u001b[0m\u001b[0;34m\u001b[0m\u001b[0;34m\u001b[0m\u001b[0m\n\u001b[1;32m      7\u001b[0m \u001b[0mprint\u001b[0m\u001b[0;34m(\u001b[0m\u001b[0mtroll_id\u001b[0m\u001b[0;34m)\u001b[0m\u001b[0;34m\u001b[0m\u001b[0;34m\u001b[0m\u001b[0m\n",
      "\u001b[0;31mTypeError\u001b[0m: byte indices must be integers or slices, not str"
     ]
    }
   ],
   "source": [
    "#troll_id = []\n",
    "#for com in comments:\n",
    "test = com[0][2:len(com)-2]\n",
    "print(test)\n",
    "trollname = json.loads(bytes(test, 'utf-8')['by'])\n",
    "#troll_id.append(trollname)\n",
    "print(troll_id)"
   ]
  },
  {
   "cell_type": "code",
   "execution_count": 41,
   "metadata": {},
   "outputs": [],
   "source": [
    "html = urllib.request.urlopen('https://hacker-news.firebaseio.com/v0/item/150000.json').read()"
   ]
  },
  {
   "cell_type": "code",
   "execution_count": 60,
   "metadata": {},
   "outputs": [
    {
     "ename": "TypeError",
     "evalue": "string indices must be integers",
     "output_type": "error",
     "traceback": [
      "\u001b[0;31m---------------------------------------------------------------------------\u001b[0m",
      "\u001b[0;31mTypeError\u001b[0m                                 Traceback (most recent call last)",
      "\u001b[0;32m<ipython-input-60-34543026f50a>\u001b[0m in \u001b[0;36m<module>\u001b[0;34m\u001b[0m\n\u001b[1;32m      1\u001b[0m \u001b[0;31m#json.loads(html)\u001b[0m\u001b[0;34m\u001b[0m\u001b[0;34m\u001b[0m\u001b[0;34m\u001b[0m\u001b[0m\n\u001b[1;32m      2\u001b[0m \u001b[0mstring\u001b[0m \u001b[0;34m=\u001b[0m \u001b[0mstr\u001b[0m\u001b[0;34m(\u001b[0m\u001b[0mhtml\u001b[0m\u001b[0;34m)\u001b[0m\u001b[0;34m\u001b[0m\u001b[0;34m\u001b[0m\u001b[0m\n\u001b[0;32m----> 3\u001b[0;31m \u001b[0mtst\u001b[0m \u001b[0;34m=\u001b[0m \u001b[0mstring\u001b[0m\u001b[0;34m[\u001b[0m\u001b[0;36m2\u001b[0m\u001b[0;34m,\u001b[0m\u001b[0mlen\u001b[0m\u001b[0;34m(\u001b[0m\u001b[0mstring\u001b[0m\u001b[0;34m)\u001b[0m\u001b[0;34m-\u001b[0m\u001b[0;36m2\u001b[0m\u001b[0;34m]\u001b[0m\u001b[0;34m\u001b[0m\u001b[0;34m\u001b[0m\u001b[0m\n\u001b[0m\u001b[1;32m      4\u001b[0m \u001b[0mprint\u001b[0m\u001b[0;34m(\u001b[0m\u001b[0mbytes\u001b[0m\u001b[0;34m(\u001b[0m\u001b[0mtst\u001b[0m\u001b[0;34m,\u001b[0m \u001b[0;34m'utf-8'\u001b[0m\u001b[0;34m)\u001b[0m\u001b[0;34m)\u001b[0m\u001b[0;34m\u001b[0m\u001b[0;34m\u001b[0m\u001b[0m\n\u001b[1;32m      5\u001b[0m \u001b[0;34m\u001b[0m\u001b[0m\n",
      "\u001b[0;31mTypeError\u001b[0m: string indices must be integers"
     ]
    }
   ],
   "source": [
    "#json.loads(html)\n",
    "string = str(html)\n",
    "tst = string[2,len(string)-2]\n",
    "print(bytes(tst, 'utf-8'))\n",
    "\n",
    "json.loads(bytes(string[2,(len(string)-2)], 'utf-8'))"
   ]
  },
  {
   "cell_type": "code",
   "execution_count": 62,
   "metadata": {},
   "outputs": [
    {
     "data": {
      "text/plain": [
       "int"
      ]
     },
     "execution_count": 62,
     "metadata": {},
     "output_type": "execute_result"
    }
   ],
   "source": [
    "type(len(string))"
   ]
  }
 ],
 "metadata": {
  "kernelspec": {
   "display_name": "Python 3",
   "language": "python",
   "name": "python3"
  },
  "language_info": {
   "codemirror_mode": {
    "name": "ipython",
    "version": 3
   },
   "file_extension": ".py",
   "mimetype": "text/x-python",
   "name": "python",
   "nbconvert_exporter": "python",
   "pygments_lexer": "ipython3",
   "version": "3.7.1"
  }
 },
 "nbformat": 4,
 "nbformat_minor": 2
}
