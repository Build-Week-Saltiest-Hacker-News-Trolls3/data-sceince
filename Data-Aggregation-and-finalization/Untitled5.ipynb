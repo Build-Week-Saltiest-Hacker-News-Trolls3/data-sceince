{
 "cells": [
  {
   "cell_type": "code",
   "execution_count": null,
   "metadata": {},
   "outputs": [
    {
     "name": "stdout",
     "output_type": "stream",
     "text": [
      "21300000\n",
      "Commit 100021300000\n",
      "Mon Nov 18 16:52:06 2019\n",
      "21300050\n",
      "21300100\n",
      "21300150\n",
      "21300200\n",
      "21300250\n",
      "21300300\n",
      "21300350\n",
      "21300400\n",
      "21300450\n",
      "21300500\n",
      "21300550\n",
      "21300600\n",
      "21300650\n",
      "21300700\n",
      "21300750\n",
      "21300800\n",
      "21300850\n",
      "21300900\n",
      "21300950\n",
      "21301000\n",
      "Commit 100021301000\n",
      "Mon Nov 18 16:55:24 2019\n",
      "21301050\n",
      "21301100\n",
      "21301150\n",
      "21301200\n",
      "21301250\n",
      "21301300\n",
      "21301350\n"
     ]
    }
   ],
   "source": [
    "import time\n",
    "import sqlite3\n",
    "import urllib.request as rqst\n",
    "from time import sleep\n",
    "connd = sqlite3.connect('HackerRankTopDown3.sqlite3')\n",
    "cd = connd.cursor()\n",
    "\n",
    "\n",
    "for i in range(21200000, 21300000):\n",
    "    html = rqst.urlopen('https://hacker-news.firebaseio.com/v0/item/' + str(i) + '.json').read()\n",
    "    cd.execute('INSERT INTO RawJSON (rawtxt, ID) VALUES (?,?)', [str(html), i])\n",
    "    connd.commit()\n",
    "    sleep(.01)\n",
    "    if i%50 == 0:\n",
    "        print(i)\n",
    "    if i%1000 == 0:\n",
    "        print('Commit 1000' + str(i))\n",
    "        print(time.asctime())\n"
   ]
  }
 ],
 "metadata": {
  "kernelspec": {
   "display_name": "Python 3",
   "language": "python",
   "name": "python3"
  },
  "language_info": {
   "codemirror_mode": {
    "name": "ipython",
    "version": 3
   },
   "file_extension": ".py",
   "mimetype": "text/x-python",
   "name": "python",
   "nbconvert_exporter": "python",
   "pygments_lexer": "ipython3",
   "version": "3.7.1"
  }
 },
 "nbformat": 4,
 "nbformat_minor": 2
}
